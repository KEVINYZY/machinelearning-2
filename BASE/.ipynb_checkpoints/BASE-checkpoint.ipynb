{
 "cells": [
  {
   "cell_type": "markdown",
   "metadata": {},
   "source": [
    "资料:[python + sklearn ︱分类效果评估——acc、recall、F1、ROC、回归、距离](http://blog.csdn.net/sinat_26917383/article/details/75199996?locationNum=3&fps=1)  \n",
    "<周志华-机器学习>"
   ]
  },
  {
   "cell_type": "markdown",
   "metadata": {},
   "source": [
    "# 理论基础"
   ]
  },
  {
   "cell_type": "markdown",
   "metadata": {},
   "source": [
    "这是一个记录一些和机器学习相关的理论公式等等"
   ]
  },
  {
   "cell_type": "markdown",
   "metadata": {},
   "source": [
    "## 检验方法"
   ]
  },
  {
   "cell_type": "markdown",
   "metadata": {},
   "source": [
    "### 混淆矩阵\n",
    "---"
   ]
  },
  {
   "cell_type": "markdown",
   "metadata": {},
   "source": [
    "混淆矩阵如图1分别用”0“和”1“代表负样本和正样本.  \n",
    "TN(真阴性)代表实际标签为0,预测标签为0的样本数量.  \n",
    "FN(假阴性)代表实际标签为1,但预测标签为0的样本数量.  \n",
    "FP(假阳性)代表实际标签为0,但预测标签为1的样本数量.  \n",
    "TP(真阳性)代表实际标签为1,预测标签为1的样本数量.  \n",
    "![混淆矩阵](images/1.png)\n",
    "例子:  "
   ]
  },
  {
   "cell_type": "code",
   "execution_count": 4,
   "metadata": {},
   "outputs": [
    {
     "data": {
      "text/plain": [
       "array([[1, 1],\n",
       "       [2, 2]])"
      ]
     },
     "execution_count": 4,
     "metadata": {},
     "output_type": "execute_result"
    }
   ],
   "source": [
    "from sklearn.metrics import confusion_matrix\n",
    "true=[1,1,1,0,0,1]\n",
    "pred=[1,0,1,1,0,0]\n",
    "confusion_matrix(true,pred)"
   ]
  },
  {
   "cell_type": "markdown",
   "metadata": {},
   "source": [
    "说明:列为真实标签,行为预测标签\n",
    "输出的含义为:  \n",
    "\n",
    "\n",
    "真实\\预测|预测为0|预测为1  \n",
    "------------ | ------------- | ------------ | -------------  \n",
    "真实为0|1|1  \n",
    "真实为1|2|2  \n",
    "\n",
    "从表中可以看出  \n",
    "真实为0 预测为 0的数量为 1 (预测对的)    \n",
    "真实为0 预测为 1的数量为 1 (预测错的)  \n",
    "真实为1 预测为 0的数量为 2 (预测错的)  \n",
    "真实为1 预测为 1的数量为 2 (预测对的)"
   ]
  },
  {
   "cell_type": "markdown",
   "metadata": {},
   "source": [
    "### 精确率(precision)/召回率(recall)/F1-Measure\n",
    "----"
   ]
  },
  {
   "cell_type": "markdown",
   "metadata": {},
   "source": [
    "对应上面的例子:   \n",
    "精确率(precision) **P**=正阳性/预测为阳性的=TP/(TP+FP)=2/(1+2)  \n",
    "召回率(recall) **R**=正阳性/所有真实为1=TP/(FN+TP)=2/(2+2)  \n",
    "F1-Measure:  \n",
    "$$F1 =\\frac{2*R*P}{P+R}$$\n",
    "$$\\frac{2}{F1}=\\frac{1}{P}+\\frac{1}{R}$$\n",
    "\n",
    "理解:  \n",
    "精确率是针对我们预测结果而言的，它表示的是预测为正的样本中有多少是真正的正样本。  \n",
    "召回率是针对我们原来的样本而言的，它表示的是样本中的正例有多少被预测正确了。  \n",
    "P和R指标有时候会出现的矛盾的情况，比如只预测1个并且预测中了,那精确率是100%,但是召回率很低.我们全部都预测为正样本,那么召回率是100%,但是精确率很低.这样就需要综合考虑他们，最常见的方法就是F-Measure，通过计算F值来评价一个指标！"
   ]
  },
  {
   "cell_type": "code",
   "execution_count": 11,
   "metadata": {},
   "outputs": [
    {
     "name": "stdout",
     "output_type": "stream",
     "text": [
      "精确率:0.666667\n",
      "召回率:0.500000\n",
      "F1值:0.571429\n"
     ]
    }
   ],
   "source": [
    "from sklearn.metrics import precision_score\n",
    "from sklearn.metrics import recall_score\n",
    "from sklearn.metrics import f1_score\n",
    "true=[1,1,1,0,0,1]\n",
    "pred=[1,0,1,1,0,0]\n",
    "print(\"精确率:%f\"%precision_score(true,pred))\n",
    "print(\"召回率:%f\"%recall_score(true,pred))\n",
    "print(\"F1值:%f\"%f1_score(true,pred))"
   ]
  },
  {
   "cell_type": "markdown",
   "metadata": {},
   "source": [
    "我们可以输出分类报告"
   ]
  },
  {
   "cell_type": "code",
   "execution_count": 12,
   "metadata": {},
   "outputs": [
    {
     "name": "stdout",
     "output_type": "stream",
     "text": [
      "             precision    recall  f1-score   support\n",
      "\n",
      "     class0       0.33      0.50      0.40         2\n",
      "     class1       0.67      0.50      0.57         4\n",
      "\n",
      "avg / total       0.56      0.50      0.51         6\n",
      "\n"
     ]
    }
   ],
   "source": [
    "from sklearn.metrics import classification_report\n",
    "target_names=[\"class0\",\"class1\"]\n",
    "true=[1,1,1,0,0,1]\n",
    "pred=[1,0,1,1,0,0]\n",
    "print(classification_report(true,pred,target_names=target_names))"
   ]
  },
  {
   "cell_type": "markdown",
   "metadata": {},
   "source": [
    "### 准确率(accuracy)\n",
    "----"
   ]
  },
  {
   "cell_type": "markdown",
   "metadata": {},
   "source": [
    "为了不和上面精确率混淆单独说明\n",
    "对应上面的例子:  \n",
    "准确率(accuracy)=预测对的/所有=(TP+TN)/(TP+FP+TN+FN)=(1+2)/(1+1+2+2) "
   ]
  },
  {
   "cell_type": "code",
   "execution_count": 13,
   "metadata": {},
   "outputs": [
    {
     "data": {
      "text/plain": [
       "0.5"
      ]
     },
     "execution_count": 13,
     "metadata": {},
     "output_type": "execute_result"
    }
   ],
   "source": [
    "from sklearn.metrics import accuracy_score\n",
    "true=[1,1,1,0,0,1]\n",
    "pred=[1,0,1,1,0,0]\n",
    "accuracy_score(true,pred)"
   ]
  },
  {
   "cell_type": "markdown",
   "metadata": {},
   "source": [
    "### AUC和ROC"
   ]
  },
  {
   "cell_type": "markdown",
   "metadata": {},
   "source": [
    "### 偏差和方差"
   ]
  },
  {
   "cell_type": "markdown",
   "metadata": {},
   "source": [
    "### 过拟合和欠拟合"
   ]
  },
  {
   "cell_type": "markdown",
   "metadata": {},
   "source": [
    "## 数学公式"
   ]
  },
  {
   "cell_type": "markdown",
   "metadata": {},
   "source": [
    "### 标准分布"
   ]
  },
  {
   "cell_type": "markdown",
   "metadata": {},
   "source": [
    "### 平均值"
   ]
  },
  {
   "cell_type": "markdown",
   "metadata": {},
   "source": [
    "### 标准差和方差"
   ]
  },
  {
   "cell_type": "markdown",
   "metadata": {},
   "source": [
    "### 求导/求偏导"
   ]
  },
  {
   "cell_type": "markdown",
   "metadata": {},
   "source": [
    "## 优化"
   ]
  },
  {
   "cell_type": "markdown",
   "metadata": {},
   "source": [
    "### 损失函数"
   ]
  },
  {
   "cell_type": "markdown",
   "metadata": {},
   "source": [
    "### 梯度下降"
   ]
  },
  {
   "cell_type": "markdown",
   "metadata": {},
   "source": [
    "### 牛顿法"
   ]
  },
  {
   "cell_type": "markdown",
   "metadata": {},
   "source": [
    "### 拟牛顿法"
   ]
  },
  {
   "cell_type": "markdown",
   "metadata": {},
   "source": [
    "### 正则化"
   ]
  },
  {
   "cell_type": "markdown",
   "metadata": {},
   "source": [
    "### one-hot"
   ]
  },
  {
   "cell_type": "markdown",
   "metadata": {},
   "source": [
    "### 交叉验证"
   ]
  },
  {
   "cell_type": "markdown",
   "metadata": {},
   "source": [
    "### K折验证"
   ]
  },
  {
   "cell_type": "markdown",
   "metadata": {},
   "source": [
    "### 卡方检验"
   ]
  },
  {
   "cell_type": "markdown",
   "metadata": {},
   "source": [
    "## 特征工程"
   ]
  },
  {
   "cell_type": "markdown",
   "metadata": {},
   "source": [
    "## 其他"
   ]
  },
  {
   "cell_type": "code",
   "execution_count": null,
   "metadata": {
    "collapsed": true
   },
   "outputs": [],
   "source": []
  }
 ],
 "metadata": {
  "kernelspec": {
   "display_name": "Python 3",
   "language": "python",
   "name": "python3"
  },
  "language_info": {
   "codemirror_mode": {
    "name": "ipython",
    "version": 3
   },
   "file_extension": ".py",
   "mimetype": "text/x-python",
   "name": "python",
   "nbconvert_exporter": "python",
   "pygments_lexer": "ipython3",
   "version": "3.6.3"
  }
 },
 "nbformat": 4,
 "nbformat_minor": 2
}
