{
 "cells": [
  {
   "cell_type": "markdown",
   "metadata": {},
   "source": [
    "资料:  \n",
    "[FM论文](https://www.csie.ntu.edu.tw/~b97053/paper/Factorization%20Machines%20with%20libFM.pdf)  \n",
    "(推荐)[Factorization Machines 学习笔记（四）学习算法](https://blog.csdn.net/itplus/article/details/40536025)  \n",
    "[FM算法（Factorization Machine）](https://blog.csdn.net/g11d111/article/details/77430095)  \n",
    "[FM算法(一)：算法理论](https://www.cnblogs.com/AndyJee/p/7879765.html)  \n",
    "[分解机（Factorization Machine, FM）模型简介以及如何使用SGD、ALS和MCMC求解分解机](http://www.datalearner.com/blog/1051509523356807)  \n",
    "[简单易学的机器学习算法——因子分解机(Factorization Machine)](http://www.bubuko.com/infodetail-787893.html)"
   ]
  },
  {
   "cell_type": "markdown",
   "metadata": {},
   "source": [
    "## FM(Factorization Machine) "
   ]
  },
  {
   "cell_type": "markdown",
   "metadata": {},
   "source": [
    "Factorization Machine 因子分解机是一种基于LR模型的高效的学习特征间相互关系， \n",
    "对于因子分解机FM来说，最大的特点是对于稀疏的数据具有很好的学习能力。其主要解决的目标是:解决数据稀疏的情况下，特征怎样组合的问题."
   ]
  },
  {
   "cell_type": "markdown",
   "metadata": {},
   "source": [
    "### 优点"
   ]
  },
  {
   "cell_type": "markdown",
   "metadata": {},
   "source": [
    "① FMs allow parameter estimation under very sparse data where SVMs fails.（FM模型可以在非常稀疏的数据中进行合理的参数估计，而SVM做不到这点）\n",
    "\n",
    "② **FMs have linear complexity,**can be optimized in the primal and do not rely on support vectors like SVMs. \n",
    "（在FM模型的复杂度是线性的，优化效果很好，而且不需要像SVM一样依赖于支持向量。）\n",
    "\n",
    "③ FMs are a general predictor that can work with any real valued feature vector. In contrast to this, other state-of-the-art factorization models work only on very restricted input data. \n",
    "（FM是一个通用模型，它可以用于任何特征为实值的情况。而其他的因式分解模型只能用于一些输入数据比较固定的情况。）"
   ]
  },
  {
   "cell_type": "markdown",
   "metadata": {},
   "source": [
    "### 算法模型"
   ]
  },
  {
   "cell_type": "markdown",
   "metadata": {},
   "source": [
    "在一般的线性模型中，是各个特征独立考虑的，没有考虑到特征与特征之间的相互关系。但实际上，大量的特征之间是有关联的。最简单的以电商为例，一般女性用户看化妆品服装之类的广告比较多，而男性更青睐各种球类装备。那很明显，女性这个特征与化妆品类服装类商品有很大的关联性，男性这个特征与球类装备的关联性更为密切。如果我们能将这些有关联的特征找出来，显然是很有意义的。  \n",
    "![](images/FM1.png)"
   ]
  },
  {
   "cell_type": "markdown",
   "metadata": {},
   "source": [
    "### 模型求解"
   ]
  },
  {
   "cell_type": "markdown",
   "metadata": {},
   "source": [
    "![](images/FM2.png)\n",
    "理论分析中,我们要求参数k取得足够大,但是,在高度稀疏数据场景中,由于没有足够的的样本来估计复杂的交互矩阵,因此k通常应取得很小.事实上,对参数k(亦即FM的表达能力)的限制,在一定程度上可以提高模型的泛化能力,这种能够利用w的低秩近似的性质也是FM的一个优势.\n",
    "![](images/FM4.png)"
   ]
  },
  {
   "cell_type": "code",
   "execution_count": null,
   "metadata": {
    "collapsed": true
   },
   "outputs": [],
   "source": []
  }
 ],
 "metadata": {
  "kernelspec": {
   "display_name": "Python 3",
   "language": "python",
   "name": "python3"
  },
  "language_info": {
   "codemirror_mode": {
    "name": "ipython",
    "version": 3
   },
   "file_extension": ".py",
   "mimetype": "text/x-python",
   "name": "python",
   "nbconvert_exporter": "python",
   "pygments_lexer": "ipython3",
   "version": "3.6.3"
  }
 },
 "nbformat": 4,
 "nbformat_minor": 2
}
