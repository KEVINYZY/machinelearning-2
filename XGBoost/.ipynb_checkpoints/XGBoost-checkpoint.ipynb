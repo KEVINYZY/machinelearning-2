{
 "cells": [
  {
   "cell_type": "markdown",
   "metadata": {},
   "source": [
    "资料:  \n",
    "[XGBoost原始论文](https://arxiv.org/pdf/1603.02754v1.pdf)  \n",
    "[Xgboost Slides ](https://homes.cs.washington.edu/~tqchen/pdf/BoostedTree.pdf)  \n",
    "(推荐)[XGBoost 与 Boosted Tree](http://www.52cs.org/?p=429)  \n",
    "(推荐)[xgboost入门与实战（原理篇）](http://blog.csdn.net/sb19931201/article/details/52557382)  \n",
    "[XGBoost浅入浅出](http://wepon.me/2016/05/07/XGBoost%E6%B5%85%E5%85%A5%E6%B5%85%E5%87%BA/)  \n",
    "[xgboost调参演示](https://github.com/lytforgood/MachineLearningTrick/blob/master/xgboost%E8%B0%83%E5%8F%82%E6%BC%94%E7%A4%BA.md)  \n",
    "[xgboost官网](http://xgboost.readthedocs.io/en/latest/python/python_api.html#module-xgboost.sklearn)  \n",
    "[xgboost算法原理与实战](https://blog.csdn.net/jasonzhangoo/article/details/73061060)    \n",
    "[利用GBDT模型构造新特征](https://breezedeus.github.io/2014/11/19/breezedeus-feature-mining-gbdt.html#fn:fbgbdt)  \n",
    "[XGBoost Plotting API以及GBDT组合特征实践](https://blog.csdn.net/sb19931201/article/details/65445514)"
   ]
  },
  {
   "cell_type": "markdown",
   "metadata": {},
   "source": [
    "## XGBoost"
   ]
  },
  {
   "cell_type": "markdown",
   "metadata": {},
   "source": [
    "XGBoost(eXtreme Gradient Boosting)是GBDT是的一种实现,正如其名,它在原有GBDT的基础做了很多改进,在训练速度和精度上面都特别优秀.也是目前数据比赛中特别常用的算法.xgboost算法比较复杂，针对传统GBDT算法做了很多细节改进，包括损失函数、正则化、切分点查找算法优化、稀疏感知算法、并行化算法设计等等。本文主要介绍xgboost基本原理以及与传统gbdt算法对比总结，后续会基于python版本做了一些实战调参试验。想详细学习xgboost算法原理建议通读作者原始论文与slide讲解。 相关笔记 [Adaboost](https://github.com/linzhenpeng/machinelearning/blob/master/Adaboost/Adaboost.ipynb),[GBDT ](https://github.com/linzhenpeng/machinelearning/blob/master/GBDT/GBDT.ipynb) ,[决策树 ](https://github.com/linzhenpeng/machinelearning/blob/master/decisionTree/decisionTree.ipynb)  \n"
   ]
  },
  {
   "cell_type": "markdown",
   "metadata": {},
   "source": [
    "### xgboost特点（与gbdt对比）来自[xgboost入门与实战（原理篇）](https://blog.csdn.net/sb19931201/article/details/52557382)"
   ]
  },
  {
   "cell_type": "markdown",
   "metadata": {},
   "source": [
    "1. 传统GBDT以CART作为基分类器，xgboost还支持线性分类器，这个时候xgboost相当于带L1和L2正则化项的逻辑斯蒂回归（分类问题）或者线性回归（回归问题）。 —**可以通过booster [default=gbtree]设置参数:gbtree: tree-based models/gblinear: linear models**    \n",
    "2. 传统GBDT在优化时只用到一阶导数信息，xgboost则对代价函数进行了二阶泰勒展开，同时用到了一阶和二阶导数。顺便提一下，xgboost工具支持自定义代价函数，只要函数可一阶和二阶求导。     \n",
    "3. xgboost在代价函数里加入了正则项，用于控制模型的复杂度。正则项里包含了树的叶子节点个数、每个叶子节点上输出的score的L2模的平方和。从Bias-variance tradeoff角度来讲，正则项降低了模型variance，使学习出来的模型更加简单，防止过拟合，这也是xgboost优于传统GBDT的一个特性  **—正则化包括了两个部分，都是为了防止过拟合，剪枝是都有的，叶子结点输出L2平滑是新增的。**    \n",
    "4. shrinkage and column subsampling —还是为了防止过拟合，论文2.3节有介绍，这里答主已概括的非常到位      \n",
    "    （1）shrinkage缩减类似于学习速率，在每一步tree boosting之后增加了一个参数n（权重），通过这种方式来减小每棵树的影响力，给后面的树提供空间去优化模型。   \n",
    "    （2）column subsampling列(特征)抽样，说是从随机森林那边学习来的，防止过拟合的效果比传统的行抽样还好（行抽样功能也有），并且有利于后面提到的并行化处理算法。    \n",
    "    \n",
    "5. split finding algorithms(划分点查找算法)：   \n",
    "    （1）exact greedy algorithm—贪心算法获取最优切分点   \n",
    "    （2）approximate algorithm— 近似算法，提出了候选分割点概念，先通过直方图算法获得候选分割点的分布情况，然后根据候选分割点将连续的特征信息映射到不同的buckets中，并统计汇总信息。详细见论文3.3节   \n",
    "    (3）Weighted Quantile Sketch—分布式加权直方图算法，论文3.4节   \n",
    "    这里的算法（2）、（3）是为了解决数据无法一次载入内存或者在分布式情况下算法（1）效率低的问题，以下引用的还是wepon大神的总结：  \n",
    "    可并行的近似直方图算法。树节点在进行分裂时，我们需要计算每个特征的每个分割点对应的增益，即用贪心法枚举所有可能的分割点。当数据无法一次载入内存或者在分布式情况下，贪心算法效率就会变得很低，所以xgboost还提出了一种可并行的近似直方图算法，用于高效地生成候选的分割点。**xgboost里面分割特征使用的不是 gini系数也不是信息增益**  \n",
    "6. 对缺失值的处理。  \n",
    "    对于特征的值有缺失的样本，xgboost可以自动学习出它的分裂方向。 —稀疏感知算法，论文3.4节，Algorithm 3: Sparsity-aware Split Finding  \n",
    "7. Built-in Cross-Validation（内置交叉验证)\n",
    "\n",
    "    XGBoost允许在每一轮boosting迭代中使用交叉验证。因此，可以方便地获得最优boosting迭代次数。 \n",
    "     而GBM使用网格搜索，只能检测有限个值。\n",
    "\n",
    "8.  continue on Existing Model（接着已有模型学习）\n",
    "\n",
    "    XGBoost可以在上一轮的结果上继续训练。 \n",
    "    sklearn中的GBM的实现也有这个功能，两种算法在这一点上是一致的\n",
    "    \n",
    "9. High Flexibility（高灵活性）  \n",
    "    XGBoost 允许用户定义自定义优化目标和评价标准 。 \n",
    "    \n",
    "10. 并行化处理 —系统设计模块,块结构设计等\n",
    "    xgboost工具支持并行。boosting不是一种串行的结构吗?怎么并行的？注意xgboost的并行不是tree粒度的并行，xgboost也是一次迭代完才能进行下一次迭代的（第t次迭代的代价函数里包含了前面t-1次迭代的预测值）。xgboost的并行是在特征粒度上的。我们知道，决策树的学习最耗时的一个步骤就是对特征的值进行排序（因为要确定最佳分割点），xgboost在训练之前，预先对数据进行了排序，然后保存为block结构，后面的迭代中重复地使用这个结构，大大减小计算量。这个block结构也使得并行成为了可能，在进行节点的分裂时，需要计算每个特征的增益，最终选增益最大的那个特征去做分裂，那么各个特征的增益计算就可以开多线程进行。\n",
    "    \n",
    "此外xgboost还设计了高速缓存压缩感知算法，这是系统设计模块的效率提升。 \n",
    "当梯度统计不适合于处理器高速缓存和高速缓存丢失时，会大大减慢切分点查找算法的速度。\n",
    "xgboost 还考虑了当数据量比较大，内存不够时怎么有效的使用磁盘，主要是结合多线程、数据压缩、分片的方法，尽可能的提高算法的效率。\n",
    "（1）针对 exact greedy algorithm采用缓存感知预取算法 \n",
    "（2）针对 approximate algorithms选择合适的块大小"
   ]
  },
  {
   "cell_type": "markdown",
   "metadata": {},
   "source": [
    "### XGBoost原理"
   ]
  },
  {
   "cell_type": "markdown",
   "metadata": {},
   "source": [
    "截图来自[XGBoost 与 Boosted Tree](http://www.52cs.org/?p=429)  红色部分文字为自己的笔记"
   ]
  },
  {
   "cell_type": "markdown",
   "metadata": {
    "collapsed": true
   },
   "source": [
    "![](images/xgboost1.png)\n",
    "![](images/xgboost2.png)"
   ]
  },
  {
   "cell_type": "markdown",
   "metadata": {},
   "source": [
    "<font color=#DC143C size=4>\n",
    "这里使用的是加法模型$\\hat{y_i} =\\sum_{k=1}^{K}f_k(x_i)$  我们要预测的结果由K个弱分类器累加而成  \n",
    "$$Obj(\\Theta)=\\sum_{i}^{n}l(y_i,\\hat{y_i})+\\sum_{k=1}^{K}\\Omega(f_k)$$\n",
    "$\\sum_{i}^{n}l(y_i,\\hat{y_i})$为误差函数:我们的模型有多拟合数据   \n",
    "$\\sum_{k=1}^{K}\\Omega(f_k)$正则化项:惩罚复杂模型\n",
    "</font>"
   ]
  },
  {
   "cell_type": "markdown",
   "metadata": {},
   "source": [
    "![](images/xgboost3.png)\n",
    "![](images/xgboost4.png)"
   ]
  },
  {
   "cell_type": "markdown",
   "metadata": {},
   "source": [
    "<font color=#DC143C size=4>\n",
    "看到这里特别佩服陈天奇大神,这里没有使用特定的损失函数而是进行一般形式的推导,使用泰勒二阶展开式.这在我们使用xgboost工具时就可以自己定义损失函数,只要一阶和二阶可导就行,增加了灵活性.上面的推导中比较难理解的是   \n",
    "$g_i$和$h_i$ 其实这两个分别是 损失函数的一阶导数和二阶导数  \n",
    "$l(y_i,\\hat{y_{i-1}})$之所以被移除是因为这两个是已知量\n",
    "</font>"
   ]
  },
  {
   "cell_type": "markdown",
   "metadata": {},
   "source": [
    "![](images/xgboost5.png)\n",
    "![](images/xgboost6.png)"
   ]
  },
  {
   "cell_type": "markdown",
   "metadata": {},
   "source": [
    "<font color=#DC143C size=4>\n",
    "这里定义正则函数 $\\Omega(f_t)$   \n",
    "正则函数不仅关注了  叶子的总个数$T$ 还关注叶子的总分数 $w$的平方 使得模型更加平滑  \n",
    "公式的中的$\\gamma$和$\\lambda$ 是超参数 对应gamma 和L2(reg_lambda)的正则化系数??\n",
    "</font>"
   ]
  },
  {
   "cell_type": "markdown",
   "metadata": {},
   "source": [
    "![](images/xgboost7.png)"
   ]
  },
  {
   "cell_type": "markdown",
   "metadata": {},
   "source": [
    "<font color=#DC143C size=4>\n",
    "这里有点难理解,最终优化的结果可以看成是一个一元二次方程的求解对于$y=ax_2+bx+c$的解在x取值为 $-\\frac{b}{2a}$时 y为 $c-\\frac{b_2}{4a}$\n",
    "</font>"
   ]
  },
  {
   "cell_type": "markdown",
   "metadata": {},
   "source": [
    "![](images/xgboost8.png)"
   ]
  },
  {
   "cell_type": "markdown",
   "metadata": {},
   "source": [
    "<font color=#DC143C size=4>\n",
    "这里重新定义了树结构的打分方式,减少了传统决策树的很多启发式方法,使结果更加一般.\n",
    "传统的特征分割,决策树剪枝,树的最大深度,叶子树的平滑值,这些通常都是采用启发式的方法(来自xgboost slides)\n",
    "</font>"
   ]
  },
  {
   "cell_type": "markdown",
   "metadata": {},
   "source": [
    "![](images/xgboost9.png)"
   ]
  },
  {
   "cell_type": "markdown",
   "metadata": {},
   "source": [
    "<font color=#DC143C size=4>\n",
    "使用的新的方式分割特征,在寻找最佳分割点的时候，可以引入并行计算.\n",
    "</font>"
   ]
  },
  {
   "cell_type": "markdown",
   "metadata": {},
   "source": [
    "## XGboost实例"
   ]
  },
  {
   "cell_type": "markdown",
   "metadata": {},
   "source": [
    "### 参数说明"
   ]
  },
  {
   "cell_type": "markdown",
   "metadata": {},
   "source": [
    "sklearn中没有xgboost需要另外安装.    \n",
    "xgboost的一些参数说明更详细看[官网API](http://xgboost.readthedocs.io/en/latest/python/python_api.html#module-xgboost.sklearn):    \n",
    "  \n",
    "**General Parameters（常规参数）**    \n",
    "\n",
    "1.**booster [default=gbtree]**：选择基分类器，gbtree: tree-based models/gblinear: linear models   \n",
    "2.**silent [default=0]**:设置成1则没有运行信息输出，最好是设置为0.   \n",
    "3.**nthread **[default to maximum number of threads available if not set]：线程数  \n",
    "  \n",
    "**Booster Parameters（模型参数）**     \n",
    "1.**eta [default=0.3]**:shrinkage参数，用于更新叶子节点权重时，乘以该系数，避免步长过大。参数值越大，越可能无法收敛。把学习率 eta 设置的小一些，小学习率可以使得后面的学习更加仔细。   \n",
    "2.**min_child_weight [default=1]**:这个参数默认是 1，是每个叶子里面 h 的和至少是多少，对正负样本不均衡时的 0-1 分类而言，假设 h 在 0.01 附近，min_child_weight 为 1 意味着叶子节点中最少需要包含 100 个样本。这个参数非常影响结果，控制叶子节点中二阶导的和的最小值，该参数值越小，越容易 overfitting。  \n",
    "3.**max_depth [default=6]**: 每颗树的最大深度，树高越深，越容易过拟合。   \n",
    "4.**max_leaf_nodes**:最大叶结点数，与max_depth作用有点重合。   \n",
    "5.**gamma [default=0]**：后剪枝时，用于控制是否后剪枝的参数。   \n",
    "6.**max_delta_step [default=0]**：这个参数在更新步骤中起作用，如果取0表示没有约束，如果取正值则使得更新步骤更加保守。可以防止做太大的更新步子，使更新更加平缓。   \n",
    "7.**subsample [default=1]**：样本随机采样，较低的值使得算法更加保守，防止过拟合，但是太小的值也会造成欠拟合。   \n",
    "8.**colsample_bytree [default=1]**：列采样，对每棵树的生成用的特征进行列采样.一般设置为： 0.5-1   \n",
    "9.**lambda [default=1]**：控制模型复杂度的权重值的L2正则化项参数，参数越大，模型越不容易过拟合。   \n",
    "10.**alpha [default=0]**:控制模型复杂程度的权重值的 L1 正则项参数，参数值越大，模型越不容易过拟合。   \n",
    "11.scale_pos_weight [default=1]：如果取值大于0的话，在类别样本不平衡的情况下有助于快速收敛。  \n",
    "\n",
    "**Learning Task Parameters（学习任务参数） **  \n",
    "1.**objective [default=reg:linear]**：定义最小化损失函数类型，常用参数： \n",
    "binary:logistic –logistic regression for binary classification, returns predicted probability (not class)    \n",
    "multi:softmax –multiclass classification using the softmax objective, returns predicted class (not probabilities)\n",
    "you also need to set an additional num_class (number of classes) parameter defining the number of unique classes   \n",
    "multi:softprob –same as softmax, but returns predicted probability of each data point belonging to each class.   \n",
    "2.**eval_metric [ default according to objective ]**： \n",
    "The metric to be used for validation data. \n",
    "The default values are rmse for regression and error for classification. \n",
    "Typical values are:   \n",
    "rmse – root mean square error   \n",
    "mae – mean absolute error   \n",
    "logloss – negative log-likelihood   \n",
    "error – Binary classification error rate (0.5 threshold)   \n",
    "merror – Multiclass classification error rate   \n",
    "mlogloss – Multiclass logloss   \n",
    "auc: Area under the curve   \n",
    "3.**seed [default=0]**：   \n",
    "The random number seed. 随机种子，用于产生可复现的结果 \n",
    "Can be used for generating reproducible results and also for parameter tuning.\n",
    "\n",
    "\n",
    "注意: python sklearn style参数名会有所变化   \n",
    "eta –> learning_rate   \n",
    "lambda –> reg_lambda   \n",
    "alpha –> reg_alpha  "
   ]
  },
  {
   "cell_type": "markdown",
   "metadata": {},
   "source": [
    "### 实例测试"
   ]
  },
  {
   "cell_type": "markdown",
   "metadata": {},
   "source": [
    "测试实例,先导入要使用到的package,测试xgboost 在make_hastie_10_2数据集上二分类的表现,同时打印树和特征重要性,与sklearn的gbdt实现GradientBoostingClassifier做对比,同时做GDBT特征组合后比较效果"
   ]
  },
  {
   "cell_type": "code",
   "execution_count": 2,
   "metadata": {
    "collapsed": true
   },
   "outputs": [],
   "source": [
    "from sklearn.datasets import make_hastie_10_2\n",
    "from sklearn.ensemble import GradientBoostingClassifier\n",
    "from sklearn.model_selection import train_test_split\n",
    "from sklearn.metrics import accuracy_score\n",
    "from sklearn.model_selection import GridSearchCV\n",
    "from sklearn.model_selection import StratifiedKFold\n",
    "from xgboost import plot_importance\n",
    "from xgboost import plot_tree\n",
    "from xgboost.sklearn import XGBClassifier\n",
    "import numpy as np\n",
    "import pandas as pd\n",
    "import matplotlib.pyplot as plt\n",
    "from graphviz import Digraph\n",
    "import pydot\n",
    "%matplotlib inline"
   ]
  },
  {
   "cell_type": "code",
   "execution_count": 3,
   "metadata": {
    "collapsed": true
   },
   "outputs": [],
   "source": [
    "X,y=make_hastie_10_2(random_state=0)"
   ]
  },
  {
   "cell_type": "code",
   "execution_count": 4,
   "metadata": {
    "collapsed": true
   },
   "outputs": [],
   "source": [
    "x_train,x_test,y_train,y_test=train_test_split(X,y,test_size=0.2,random_state=0)"
   ]
  },
  {
   "cell_type": "markdown",
   "metadata": {},
   "source": [
    "使用默认参数"
   ]
  },
  {
   "cell_type": "code",
   "execution_count": 117,
   "metadata": {},
   "outputs": [
    {
     "data": {
      "text/plain": [
       "GradientBoostingClassifier(criterion='friedman_mse', init=None,\n",
       "              learning_rate=0.1, loss='deviance', max_depth=3,\n",
       "              max_features=None, max_leaf_nodes=None,\n",
       "              min_impurity_decrease=0.0, min_impurity_split=None,\n",
       "              min_samples_leaf=1, min_samples_split=2,\n",
       "              min_weight_fraction_leaf=0.0, n_estimators=100,\n",
       "              presort='auto', random_state=None, subsample=1.0, verbose=0,\n",
       "              warm_start=False)"
      ]
     },
     "execution_count": 117,
     "metadata": {},
     "output_type": "execute_result"
    }
   ],
   "source": [
    "gbc=GradientBoostingClassifier()\n",
    "gbc.fit(x_train,y_train)"
   ]
  },
  {
   "cell_type": "code",
   "execution_count": 118,
   "metadata": {},
   "outputs": [
    {
     "data": {
      "text/plain": [
       "0.91500000000000004"
      ]
     },
     "execution_count": 118,
     "metadata": {},
     "output_type": "execute_result"
    }
   ],
   "source": [
    "gbc.score(x_test,y_test)"
   ]
  },
  {
   "cell_type": "code",
   "execution_count": 119,
   "metadata": {
    "collapsed": true
   },
   "outputs": [],
   "source": [
    "xgb=XGBClassifier()"
   ]
  },
  {
   "cell_type": "code",
   "execution_count": 120,
   "metadata": {
    "scrolled": false
   },
   "outputs": [
    {
     "data": {
      "text/plain": [
       "XGBClassifier(base_score=0.5, booster='gbtree', colsample_bylevel=1,\n",
       "       colsample_bytree=1, gamma=0, learning_rate=0.1, max_delta_step=0,\n",
       "       max_depth=3, min_child_weight=1, missing=None, n_estimators=100,\n",
       "       n_jobs=1, nthread=None, objective='binary:logistic', random_state=0,\n",
       "       reg_alpha=0, reg_lambda=1, scale_pos_weight=1, seed=None,\n",
       "       silent=True, subsample=1)"
      ]
     },
     "execution_count": 120,
     "metadata": {},
     "output_type": "execute_result"
    }
   ],
   "source": [
    "xgb.fit(x_train,y_train)"
   ]
  },
  {
   "cell_type": "code",
   "execution_count": 121,
   "metadata": {},
   "outputs": [
    {
     "data": {
      "text/plain": [
       "0.91041666666666665"
      ]
     },
     "execution_count": 121,
     "metadata": {},
     "output_type": "execute_result"
    }
   ],
   "source": [
    "xgb.score(x_test,y_test)"
   ]
  },
  {
   "cell_type": "markdown",
   "metadata": {},
   "source": [
    "可以看出使用默认参数的 xgb和sklearn的gdbt差不多,xgb要差一点"
   ]
  },
  {
   "cell_type": "markdown",
   "metadata": {},
   "source": [
    "我们使用网格搜索来调参"
   ]
  },
  {
   "cell_type": "code",
   "execution_count": 123,
   "metadata": {},
   "outputs": [
    {
     "name": "stdout",
     "output_type": "stream",
     "text": [
      "Best -0.091874 using {'colsample_bytree': 0.6, 'gamma': 0.4, 'max_depth': 3, 'n_estimators': 2000, 'subsample': 0.6} \n"
     ]
    }
   ],
   "source": [
    "xgb=XGBClassifier()\n",
    "max_depth=[2,3,4]\n",
    "n_estimators=[500,1000,1500,2000]\n",
    "gamma=[0.2,0.3,0.4]\n",
    "subsample=[0.6,0.7,0.8]\n",
    "colsample_bytree=[0.6,0.7,0.8]\n",
    "param_grid=dict(gamma=gamma,\n",
    "                subsample=subsample,\n",
    "                colsample_bytree=colsample_bytree,\n",
    "                max_depth=max_depth,\n",
    "                n_estimators=n_estimators\n",
    "               )\n",
    "kfold=StratifiedKFold(n_splits=10,shuffle=True,random_state=0)\n",
    "grid_search=GridSearchCV(xgb,param_grid,scoring=\"neg_log_loss\",n_jobs=2,cv=kfold)\n",
    "grid_result=grid_search.fit(x_train,y_train)\n",
    "print(\"Best %f using %s \"%(grid_result.best_score_,grid_result.best_params_))"
   ]
  },
  {
   "cell_type": "markdown",
   "metadata": {},
   "source": [
    "把上面搜索到的最好参数组合看下效果,上面的网格搜索特别耗时"
   ]
  },
  {
   "cell_type": "code",
   "execution_count": 5,
   "metadata": {},
   "outputs": [
    {
     "data": {
      "text/plain": [
       "0.96208333333333329"
      ]
     },
     "execution_count": 5,
     "metadata": {},
     "output_type": "execute_result"
    }
   ],
   "source": [
    "xgb=XGBClassifier(learning_rate=0.1,max_depth=3,n_estimators=2000,gamma=0.4,min_child_weight=1,subsample=0.6,colsample_bytree=0.6,silent=0,n_jobs=-1)\n",
    "xgb.fit(x_train,y_train)\n",
    "xgb.score(x_test,y_test)"
   ]
  },
  {
   "cell_type": "markdown",
   "metadata": {},
   "source": [
    "比原来增加了0.05 可以说效果非常显著"
   ]
  },
  {
   "cell_type": "markdown",
   "metadata": {},
   "source": [
    "xgb特别好的地方就是,可以画出特征的重要性"
   ]
  },
  {
   "cell_type": "code",
   "execution_count": 124,
   "metadata": {
    "scrolled": true
   },
   "outputs": [
    {
     "data": {
      "image/png": "[encoded data removed]",
      "text/plain": [
       "<matplotlib.figure.Figure at 0x7f2bac053278>"
      ]
     },
     "metadata": {},
     "output_type": "display_data"
    }
   ],
   "source": [
    "plot_importance(xgb)\n",
    "plt.show()"
   ]
  },
  {
   "cell_type": "markdown",
   "metadata": {},
   "source": [
    "画出来的树很模糊."
   ]
  },
  {
   "cell_type": "code",
   "execution_count": 143,
   "metadata": {},
   "outputs": [
    {
     "data": {
      "image/png": "[encoded data removed]",
      "text/plain": [
       "<matplotlib.figure.Figure at 0x7f2bac236860>"
      ]
     },
     "metadata": {},
     "output_type": "display_data"
    }
   ],
   "source": [
    "ax=plot_tree(xgb,num_trees=0)\n",
    "plt.show()"
   ]
  },
  {
   "cell_type": "markdown",
   "metadata": {},
   "source": [
    "### 组合特征(生成新的特征)"
   ]
  },
  {
   "cell_type": "markdown",
   "metadata": {},
   "source": [
    "使用GBDT生成新的特征,这里只用了30颗树"
   ]
  },
  {
   "cell_type": "code",
   "execution_count": 105,
   "metadata": {
    "collapsed": true
   },
   "outputs": [],
   "source": [
    "X,y=make_hastie_10_2(random_state=0)\n",
    "X=pd.DataFrame(X)\n",
    "y=pd.DataFrame(y)"
   ]
  },
  {
   "cell_type": "code",
   "execution_count": 106,
   "metadata": {
    "collapsed": true
   },
   "outputs": [],
   "source": [
    "y.columns={\"label\"}\n",
    "label={-1:0,1:1}\n",
    "y.label=y.label.map(label)"
   ]
  },
  {
   "cell_type": "code",
   "execution_count": 107,
   "metadata": {
    "collapsed": true
   },
   "outputs": [],
   "source": [
    "X_train, X_test, y_train, y_test = train_test_split(X, y, test_size=0.2, random_state=0)"
   ]
  },
  {
   "cell_type": "code",
   "execution_count": 108,
   "metadata": {},
   "outputs": [
    {
     "data": {
      "text/plain": [
       "(9600, 10)"
      ]
     },
     "execution_count": 108,
     "metadata": {},
     "output_type": "execute_result"
    }
   ],
   "source": [
    "X_train.shape"
   ]
  },
  {
   "cell_type": "code",
   "execution_count": 109,
   "metadata": {},
   "outputs": [
    {
     "data": {
      "text/html": [
       "<div>\n",
       "<style>\n",
       "    .dataframe thead tr:only-child th {\n",
       "        text-align: right;\n",
       "    }\n",
       "\n",
       "    .dataframe thead th {\n",
       "        text-align: left;\n",
       "    }\n",
       "\n",
       "    .dataframe tbody tr th {\n",
       "        vertical-align: top;\n",
       "    }\n",
       "</style>\n",
       "<table border=\"1\" class=\"dataframe\">\n",
       "  <thead>\n",
       "    <tr style=\"text-align: right;\">\n",
       "      <th></th>\n",
       "      <th>0</th>\n",
       "      <th>1</th>\n",
       "      <th>2</th>\n",
       "      <th>3</th>\n",
       "      <th>4</th>\n",
       "      <th>5</th>\n",
       "      <th>6</th>\n",
       "      <th>7</th>\n",
       "      <th>8</th>\n",
       "      <th>9</th>\n",
       "    </tr>\n",
       "  </thead>\n",
       "  <tbody>\n",
       "    <tr>\n",
       "      <th>843</th>\n",
       "      <td>-1.696838</td>\n",
       "      <td>-0.851699</td>\n",
       "      <td>-0.922525</td>\n",
       "      <td>0.923324</td>\n",
       "      <td>-0.395004</td>\n",
       "      <td>0.709935</td>\n",
       "      <td>-0.042934</td>\n",
       "      <td>-0.649640</td>\n",
       "      <td>-0.318538</td>\n",
       "      <td>-1.872091</td>\n",
       "    </tr>\n",
       "    <tr>\n",
       "      <th>9450</th>\n",
       "      <td>0.235742</td>\n",
       "      <td>-0.134053</td>\n",
       "      <td>-0.105796</td>\n",
       "      <td>1.635922</td>\n",
       "      <td>0.388091</td>\n",
       "      <td>-0.337705</td>\n",
       "      <td>-0.424280</td>\n",
       "      <td>0.170233</td>\n",
       "      <td>1.450414</td>\n",
       "      <td>-0.211502</td>\n",
       "    </tr>\n",
       "    <tr>\n",
       "      <th>7766</th>\n",
       "      <td>0.889241</td>\n",
       "      <td>-0.310546</td>\n",
       "      <td>-0.978214</td>\n",
       "      <td>0.986720</td>\n",
       "      <td>0.304275</td>\n",
       "      <td>-1.228938</td>\n",
       "      <td>1.245357</td>\n",
       "      <td>-0.908876</td>\n",
       "      <td>3.678521</td>\n",
       "      <td>-0.813448</td>\n",
       "    </tr>\n",
       "    <tr>\n",
       "      <th>9802</th>\n",
       "      <td>-0.333380</td>\n",
       "      <td>0.015419</td>\n",
       "      <td>2.148760</td>\n",
       "      <td>-0.909960</td>\n",
       "      <td>1.298145</td>\n",
       "      <td>-0.460775</td>\n",
       "      <td>0.750866</td>\n",
       "      <td>-1.151144</td>\n",
       "      <td>0.685288</td>\n",
       "      <td>0.303376</td>\n",
       "    </tr>\n",
       "    <tr>\n",
       "      <th>8555</th>\n",
       "      <td>1.825373</td>\n",
       "      <td>0.203503</td>\n",
       "      <td>-0.344880</td>\n",
       "      <td>0.848101</td>\n",
       "      <td>-0.449497</td>\n",
       "      <td>0.898452</td>\n",
       "      <td>-0.314597</td>\n",
       "      <td>0.110325</td>\n",
       "      <td>-0.221885</td>\n",
       "      <td>-2.015231</td>\n",
       "    </tr>\n",
       "  </tbody>\n",
       "</table>\n",
       "</div>"
      ],
      "text/plain": [
       "             0         1         2         3         4         5         6  \\\n",
       "843  -1.696838 -0.851699 -0.922525  0.923324 -0.395004  0.709935 -0.042934   \n",
       "9450  0.235742 -0.134053 -0.105796  1.635922  0.388091 -0.337705 -0.424280   \n",
       "7766  0.889241 -0.310546 -0.978214  0.986720  0.304275 -1.228938  1.245357   \n",
       "9802 -0.333380  0.015419  2.148760 -0.909960  1.298145 -0.460775  0.750866   \n",
       "8555  1.825373  0.203503 -0.344880  0.848101 -0.449497  0.898452 -0.314597   \n",
       "\n",
       "             7         8         9  \n",
       "843  -0.649640 -0.318538 -1.872091  \n",
       "9450  0.170233  1.450414 -0.211502  \n",
       "7766 -0.908876  3.678521 -0.813448  \n",
       "9802 -1.151144  0.685288  0.303376  \n",
       "8555  0.110325 -0.221885 -2.015231  "
      ]
     },
     "execution_count": 109,
     "metadata": {},
     "output_type": "execute_result"
    }
   ],
   "source": [
    "X_train.head()"
   ]
  },
  {
   "cell_type": "code",
   "execution_count": 110,
   "metadata": {
    "collapsed": true
   },
   "outputs": [],
   "source": [
    "clf = XGBClassifier(\n",
    "    n_estimators=30,#三十棵树\n",
    "    learning_rate =0.3,\n",
    "    max_depth=3,\n",
    "    min_child_weight=1,\n",
    "    gamma=0.3,\n",
    "    subsample=0.8,\n",
    "    colsample_bytree=0.8,\n",
    "    objective= 'binary:logistic',\n",
    "    nthread=12,\n",
    "    scale_pos_weight=1,\n",
    "    reg_lambda=1,\n",
    "    seed=27)"
   ]
  },
  {
   "cell_type": "code",
   "execution_count": 112,
   "metadata": {},
   "outputs": [
    {
     "name": "stderr",
     "output_type": "stream",
     "text": [
      "/usr/local/python/lib/python3.6/site-packages/sklearn/preprocessing/label.py:95: DataConversionWarning: A column-vector y was passed when a 1d array was expected. Please change the shape of y to (n_samples, ), for example using ravel().\n",
      "  y = column_or_1d(y, warn=True)\n",
      "/usr/local/python/lib/python3.6/site-packages/sklearn/preprocessing/label.py:128: DataConversionWarning: A column-vector y was passed when a 1d array was expected. Please change the shape of y to (n_samples, ), for example using ravel().\n",
      "  y = column_or_1d(y, warn=True)\n"
     ]
    },
    {
     "data": {
      "text/plain": [
       "XGBClassifier(base_score=0.5, booster='gbtree', colsample_bylevel=1,\n",
       "       colsample_bytree=0.8, gamma=0.3, learning_rate=0.3,\n",
       "       max_delta_step=0, max_depth=3, min_child_weight=1, missing=None,\n",
       "       n_estimators=30, n_jobs=1, nthread=12, objective='binary:logistic',\n",
       "       random_state=0, reg_alpha=0, reg_lambda=1, scale_pos_weight=1,\n",
       "       seed=27, silent=True, subsample=0.8)"
      ]
     },
     "execution_count": 112,
     "metadata": {},
     "output_type": "execute_result"
    }
   ],
   "source": [
    "clf.fit(X_train, y_train)"
   ]
  },
  {
   "cell_type": "code",
   "execution_count": 113,
   "metadata": {},
   "outputs": [
    {
     "data": {
      "text/plain": [
       "0.89000000000000001"
      ]
     },
     "execution_count": 113,
     "metadata": {},
     "output_type": "execute_result"
    }
   ],
   "source": [
    "clf.score(X_test,y_test)"
   ]
  },
  {
   "cell_type": "code",
   "execution_count": 87,
   "metadata": {
    "collapsed": true
   },
   "outputs": [],
   "source": [
    "train_new_feature= clf.apply(X_train)#每个样本在每颗树叶子节点的索引值\n",
    "test_new_feature= clf.apply(X_test)\n",
    "train_new_feature2 = pd.DataFrame(train_new_feature)\n",
    "test_new_feature2 = pd.DataFrame(test_new_feature)"
   ]
  },
  {
   "cell_type": "code",
   "execution_count": 88,
   "metadata": {},
   "outputs": [
    {
     "data": {
      "text/plain": [
       "(9600, 30)"
      ]
     },
     "execution_count": 88,
     "metadata": {},
     "output_type": "execute_result"
    }
   ],
   "source": [
    "train_new_feature2.shape"
   ]
  },
  {
   "cell_type": "code",
   "execution_count": 89,
   "metadata": {
    "scrolled": false
   },
   "outputs": [
    {
     "data": {
      "text/html": [
       "<div>\n",
       "<style>\n",
       "    .dataframe thead tr:only-child th {\n",
       "        text-align: right;\n",
       "    }\n",
       "\n",
       "    .dataframe thead th {\n",
       "        text-align: left;\n",
       "    }\n",
       "\n",
       "    .dataframe tbody tr th {\n",
       "        vertical-align: top;\n",
       "    }\n",
       "</style>\n",
       "<table border=\"1\" class=\"dataframe\">\n",
       "  <thead>\n",
       "    <tr style=\"text-align: right;\">\n",
       "      <th></th>\n",
       "      <th>0</th>\n",
       "      <th>1</th>\n",
       "      <th>2</th>\n",
       "      <th>3</th>\n",
       "      <th>4</th>\n",
       "      <th>5</th>\n",
       "      <th>6</th>\n",
       "      <th>7</th>\n",
       "      <th>8</th>\n",
       "      <th>9</th>\n",
       "      <th>...</th>\n",
       "      <th>20</th>\n",
       "      <th>21</th>\n",
       "      <th>22</th>\n",
       "      <th>23</th>\n",
       "      <th>24</th>\n",
       "      <th>25</th>\n",
       "      <th>26</th>\n",
       "      <th>27</th>\n",
       "      <th>28</th>\n",
       "      <th>29</th>\n",
       "    </tr>\n",
       "  </thead>\n",
       "  <tbody>\n",
       "    <tr>\n",
       "      <th>0</th>\n",
       "      <td>8</td>\n",
       "      <td>11</td>\n",
       "      <td>9</td>\n",
       "      <td>9</td>\n",
       "      <td>10</td>\n",
       "      <td>8</td>\n",
       "      <td>11</td>\n",
       "      <td>12</td>\n",
       "      <td>9</td>\n",
       "      <td>9</td>\n",
       "      <td>...</td>\n",
       "      <td>10</td>\n",
       "      <td>8</td>\n",
       "      <td>10</td>\n",
       "      <td>11</td>\n",
       "      <td>9</td>\n",
       "      <td>10</td>\n",
       "      <td>10</td>\n",
       "      <td>8</td>\n",
       "      <td>11</td>\n",
       "      <td>12</td>\n",
       "    </tr>\n",
       "    <tr>\n",
       "      <th>1</th>\n",
       "      <td>10</td>\n",
       "      <td>11</td>\n",
       "      <td>9</td>\n",
       "      <td>11</td>\n",
       "      <td>11</td>\n",
       "      <td>9</td>\n",
       "      <td>11</td>\n",
       "      <td>12</td>\n",
       "      <td>9</td>\n",
       "      <td>9</td>\n",
       "      <td>...</td>\n",
       "      <td>10</td>\n",
       "      <td>9</td>\n",
       "      <td>11</td>\n",
       "      <td>11</td>\n",
       "      <td>9</td>\n",
       "      <td>10</td>\n",
       "      <td>10</td>\n",
       "      <td>8</td>\n",
       "      <td>11</td>\n",
       "      <td>13</td>\n",
       "    </tr>\n",
       "    <tr>\n",
       "      <th>2</th>\n",
       "      <td>10</td>\n",
       "      <td>11</td>\n",
       "      <td>9</td>\n",
       "      <td>12</td>\n",
       "      <td>10</td>\n",
       "      <td>9</td>\n",
       "      <td>11</td>\n",
       "      <td>12</td>\n",
       "      <td>9</td>\n",
       "      <td>9</td>\n",
       "      <td>...</td>\n",
       "      <td>10</td>\n",
       "      <td>9</td>\n",
       "      <td>14</td>\n",
       "      <td>11</td>\n",
       "      <td>10</td>\n",
       "      <td>13</td>\n",
       "      <td>10</td>\n",
       "      <td>8</td>\n",
       "      <td>11</td>\n",
       "      <td>13</td>\n",
       "    </tr>\n",
       "    <tr>\n",
       "      <th>3</th>\n",
       "      <td>10</td>\n",
       "      <td>11</td>\n",
       "      <td>9</td>\n",
       "      <td>10</td>\n",
       "      <td>10</td>\n",
       "      <td>9</td>\n",
       "      <td>11</td>\n",
       "      <td>14</td>\n",
       "      <td>9</td>\n",
       "      <td>9</td>\n",
       "      <td>...</td>\n",
       "      <td>8</td>\n",
       "      <td>9</td>\n",
       "      <td>11</td>\n",
       "      <td>12</td>\n",
       "      <td>9</td>\n",
       "      <td>10</td>\n",
       "      <td>10</td>\n",
       "      <td>8</td>\n",
       "      <td>13</td>\n",
       "      <td>12</td>\n",
       "    </tr>\n",
       "    <tr>\n",
       "      <th>4</th>\n",
       "      <td>12</td>\n",
       "      <td>11</td>\n",
       "      <td>9</td>\n",
       "      <td>9</td>\n",
       "      <td>10</td>\n",
       "      <td>7</td>\n",
       "      <td>11</td>\n",
       "      <td>12</td>\n",
       "      <td>9</td>\n",
       "      <td>10</td>\n",
       "      <td>...</td>\n",
       "      <td>10</td>\n",
       "      <td>8</td>\n",
       "      <td>13</td>\n",
       "      <td>11</td>\n",
       "      <td>9</td>\n",
       "      <td>10</td>\n",
       "      <td>10</td>\n",
       "      <td>8</td>\n",
       "      <td>12</td>\n",
       "      <td>12</td>\n",
       "    </tr>\n",
       "  </tbody>\n",
       "</table>\n",
       "<p>5 rows × 30 columns</p>\n",
       "</div>"
      ],
      "text/plain": [
       "   0   1   2   3   4   5   6   7   8   9  ...  20  21  22  23  24  25  26  27  \\\n",
       "0   8  11   9   9  10   8  11  12   9   9 ...  10   8  10  11   9  10  10   8   \n",
       "1  10  11   9  11  11   9  11  12   9   9 ...  10   9  11  11   9  10  10   8   \n",
       "2  10  11   9  12  10   9  11  12   9   9 ...  10   9  14  11  10  13  10   8   \n",
       "3  10  11   9  10  10   9  11  14   9   9 ...   8   9  11  12   9  10  10   8   \n",
       "4  12  11   9   9  10   7  11  12   9  10 ...  10   8  13  11   9  10  10   8   \n",
       "\n",
       "   28  29  \n",
       "0  11  12  \n",
       "1  11  13  \n",
       "2  11  13  \n",
       "3  13  12  \n",
       "4  12  12  \n",
       "\n",
       "[5 rows x 30 columns]"
      ]
     },
     "execution_count": 89,
     "metadata": {},
     "output_type": "execute_result"
    }
   ],
   "source": [
    "train_new_feature2.head()"
   ]
  },
  {
   "cell_type": "markdown",
   "metadata": {},
   "source": [
    "现在每个样本就是100维的,每一维表示原样本在这颗树的叶子节点的索引,这样我们就得到了新的特征.下面使用新的特征训练"
   ]
  },
  {
   "cell_type": "code",
   "execution_count": 90,
   "metadata": {},
   "outputs": [
    {
     "name": "stderr",
     "output_type": "stream",
     "text": [
      "/usr/local/python/lib/python3.6/site-packages/sklearn/preprocessing/label.py:95: DataConversionWarning: A column-vector y was passed when a 1d array was expected. Please change the shape of y to (n_samples, ), for example using ravel().\n",
      "  y = column_or_1d(y, warn=True)\n",
      "/usr/local/python/lib/python3.6/site-packages/sklearn/preprocessing/label.py:128: DataConversionWarning: A column-vector y was passed when a 1d array was expected. Please change the shape of y to (n_samples, ), for example using ravel().\n",
      "  y = column_or_1d(y, warn=True)\n"
     ]
    },
    {
     "data": {
      "text/plain": [
       "XGBClassifier(base_score=0.5, booster='gbtree', colsample_bylevel=1,\n",
       "       colsample_bytree=0.8, gamma=0.3, learning_rate=0.3,\n",
       "       max_delta_step=0, max_depth=3, min_child_weight=1, missing=None,\n",
       "       n_estimators=30, n_jobs=1, nthread=12, objective='binary:logistic',\n",
       "       random_state=0, reg_alpha=0, reg_lambda=1, scale_pos_weight=1,\n",
       "       seed=27, silent=True, subsample=0.8)"
      ]
     },
     "execution_count": 90,
     "metadata": {},
     "output_type": "execute_result"
    }
   ],
   "source": [
    "clf.fit(train_new_feature2, y_train)"
   ]
  },
  {
   "cell_type": "code",
   "execution_count": 91,
   "metadata": {},
   "outputs": [
    {
     "data": {
      "text/plain": [
       "0.87541666666666662"
      ]
     },
     "execution_count": 91,
     "metadata": {},
     "output_type": "execute_result"
    }
   ],
   "source": [
    "clf.score(test_new_feature2,y_test)"
   ]
  },
  {
   "cell_type": "markdown",
   "metadata": {},
   "source": [
    "### 原特征和组合特征一起训练"
   ]
  },
  {
   "cell_type": "markdown",
   "metadata": {},
   "source": [
    "这里只用新的特征,也可以有很好的预测效果,说明新的特征是有用的,\n",
    "现在我们把旧的特征和新的特征整合在一起训练.先写把特征合并的方法"
   ]
  },
  {
   "cell_type": "code",
   "execution_count": 6,
   "metadata": {
    "collapsed": true
   },
   "outputs": [],
   "source": [
    "from sklearn.model_selection import train_test_split\n",
    "from sklearn import metrics\n",
    "from  sklearn.datasets  import  make_hastie_10_2\n",
    "from xgboost.sklearn import XGBClassifier\n",
    "##载入示例数据 10维度\n",
    "X, y = make_hastie_10_2(random_state=0)\n",
    "X_train, X_test, y_train, y_test = train_test_split(X, y, test_size=0.2, random_state=0)##test_size测试集合所占比例\n",
    "##X_train_1用于生成模型  X_train_2用于和新特征组成新训练集合\n",
    "X_train_1, X_train_2, y_train_1, y_train_2 = train_test_split(X_train, y_train, test_size=0.6, random_state=0)"
   ]
  },
  {
   "cell_type": "code",
   "execution_count": 7,
   "metadata": {
    "collapsed": true
   },
   "outputs": [],
   "source": [
    "import numpy as np\n",
    "def mergeToOne(X,X2):\n",
    "    X3=[]\n",
    "    for i in range(X.shape[0]):\n",
    "        tmp=np.array([list(X[i]),list(X2[i])])\n",
    "        X3.append(list(np.hstack(tmp)))\n",
    "    X3=np.array(X3)\n",
    "    return X3"
   ]
  },
  {
   "cell_type": "code",
   "execution_count": 8,
   "metadata": {
    "collapsed": true
   },
   "outputs": [],
   "source": [
    "clf = XGBClassifier(\n",
    " learning_rate =0.3, #默认0.3\n",
    " n_estimators=30, #树的个数\n",
    " max_depth=3,\n",
    " min_child_weight=1,\n",
    " gamma=0.5,\n",
    " subsample=0.6,\n",
    " colsample_bytree=0.6,\n",
    " objective= 'binary:logistic', #逻辑回归损失函数\n",
    " nthread=4,  #cpu线程数\n",
    " scale_pos_weight=1,\n",
    " reg_alpha=1e-05,\n",
    " reg_lambda=1,\n",
    " seed=27)  #随机种子"
   ]
  },
  {
   "cell_type": "code",
   "execution_count": 9,
   "metadata": {
    "collapsed": true
   },
   "outputs": [],
   "source": [
    "clf.fit(X_train_1, y_train_1)\n",
    "new_feature= clf.apply(X_train_2)"
   ]
  },
  {
   "cell_type": "code",
   "execution_count": 10,
   "metadata": {
    "collapsed": true
   },
   "outputs": [],
   "source": [
    "X_train_new2=mergeToOne(X_train_2,new_feature)\n",
    "new_feature_test= clf.apply(X_test)\n",
    "X_test_new=mergeToOne(X_test,new_feature_test)"
   ]
  },
  {
   "cell_type": "code",
   "execution_count": 11,
   "metadata": {
    "collapsed": true
   },
   "outputs": [],
   "source": [
    "model = XGBClassifier(\n",
    " learning_rate =0.1,\n",
    " n_estimators=2000,\n",
    " max_depth=3,\n",
    " min_child_weight=1,\n",
    " gamma=0.4,\n",
    " subsample=0.6,\n",
    " colsample_bytree=0.6,\n",
    " objective= 'binary:logistic', \n",
    " nthread=4, \n",
    " scale_pos_weight=1,\n",
    " reg_alpha=1e-05,\n",
    " reg_lambda=1,\n",
    " seed=27)"
   ]
  },
  {
   "cell_type": "code",
   "execution_count": 12,
   "metadata": {},
   "outputs": [
    {
     "name": "stdout",
     "output_type": "stream",
     "text": [
      "AUC Score : 0.992485\n",
      "Accuracy : 0.9563\n"
     ]
    }
   ],
   "source": [
    "model.fit(X_train_new2, y_train_2)\n",
    "y_pre= model.predict(X_test_new)\n",
    "y_pro= model.predict_proba(X_test_new)[:,1] \n",
    "print(\"AUC Score : %f\" % metrics.roc_auc_score(y_test, y_pro) )\n",
    "print(\"Accuracy : %.4g\" % metrics.accuracy_score(y_test, y_pre) )"
   ]
  },
  {
   "cell_type": "code",
   "execution_count": 14,
   "metadata": {},
   "outputs": [
    {
     "name": "stdout",
     "output_type": "stream",
     "text": [
      "AUC Score : 0.993615\n",
      "Accuracy : 0.9625\n"
     ]
    }
   ],
   "source": [
    "model = XGBClassifier(\n",
    " learning_rate =0.1,\n",
    " n_estimators=2000,\n",
    " max_depth=3,\n",
    " min_child_weight=1,\n",
    " gamma=0.6,\n",
    " subsample=0.7,\n",
    " colsample_bytree=0.8,\n",
    " objective= 'binary:logistic', \n",
    " nthread=4, \n",
    " scale_pos_weight=1,\n",
    " reg_alpha=1e-05,\n",
    " reg_lambda=1,\n",
    " seed=27)\n",
    "model.fit(X_train_new2, y_train_2)\n",
    "y_pre= model.predict(X_test_new)\n",
    "y_pro= model.predict_proba(X_test_new)[:,1] \n",
    "print(\"AUC Score : %f\" % metrics.roc_auc_score(y_test, y_pro) )\n",
    "print(\"Accuracy : %.4g\" % metrics.accuracy_score(y_test, y_pre) )"
   ]
  },
  {
   "cell_type": "markdown",
   "metadata": {
    "collapsed": true
   },
   "source": [
    "生成新的特征后再和原来的特征一起合并作为训练数据,这是目前最好的效果,这里还没有进行网格搜索,应该有更好的效果"
   ]
  }
 ],
 "metadata": {
  "kernelspec": {
   "display_name": "Python 3",
   "language": "python",
   "name": "python3"
  },
  "language_info": {
   "codemirror_mode": {
    "name": "ipython",
    "version": 3
   },
   "file_extension": ".py",
   "mimetype": "text/x-python",
   "name": "python",
   "nbconvert_exporter": "python",
   "pygments_lexer": "ipython3",
   "version": "3.6.3"
  }
 },
 "nbformat": 4,
 "nbformat_minor": 2
}
