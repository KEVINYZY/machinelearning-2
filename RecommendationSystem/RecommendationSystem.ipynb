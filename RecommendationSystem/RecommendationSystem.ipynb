{
 "cells": [
  {
   "cell_type": "markdown",
   "metadata": {},
   "source": [
    "资料:  \n",
    "<集体智慧编程>  \n",
    "[协同过滤推荐算法的原理及实现](https://blog.csdn.net/yimingsilence/article/details/54934302)   \n",
    "[基于物品的协同过滤推荐算法](https://blog.csdn.net/huagong_adu/article/details/7362908)"
   ]
  },
  {
   "cell_type": "markdown",
   "metadata": {},
   "source": [
    "## RecommendationSystem(推荐系统)"
   ]
  },
  {
   "cell_type": "markdown",
   "metadata": {},
   "source": [
    "协同过滤推荐算法是诞生最早，并且较为著名的推荐算法。主要的功能是预测和推荐。算法通过对用户历史行为数据的挖掘发现用户的偏好，基于不同的偏好对用户进行群组划分并推荐品味相似的商品。协同过滤推荐算法分为两类，分别是基于用户的协同过滤算法(user-based collaboratIve filtering)，和基于物品的协同过滤算法(item-based collaborative filtering)。简单的说就是：人以类聚，物以群分。下面我们将分别说明这两类推荐算法的原理和实现方法。"
   ]
  },
  {
   "cell_type": "markdown",
   "metadata": {
    "collapsed": true
   },
   "source": [
    "1.基于用户的协同过滤算法(user-based collaboratIve filtering)\n",
    "\n",
    "　　基于用户的协同过滤算法是通过用户的历史行为数据发现用户对商品或内容的喜欢(如商品购买，收藏，内容评论或分享)，并对这些喜好进行度量和打分。根据不同用户对相同商品或内容的态度和偏好程度计算用户之间的关系。在有相同喜好的用户间进行商品推荐。简单的说就是如果A,B两个用户都购买了x,y,z三本图书，并且给出了5星的好评。那么A和B就属于同一类用户。可以将A看过的图书w也推荐给用户B。根据人们品味的相似度,我们可以将每个人与所有其他人进行比对,并计算他们的相似度评价值,相似程度高的就是一类用户."
   ]
  },
  {
   "cell_type": "markdown",
   "metadata": {
    "collapsed": true
   },
   "source": [
    "2.基于物品的协同过滤算法(item-based collaborative filtering)\n",
    "\n",
    "　　基于物品的协同过滤算法与基于用户的协同过滤算法很像，将商品和用户互换。通过计算不同用户对不同物品的评分获得物品间的关系。基于物品间的关系对用户进行相似物品的推荐。这里的评分代表用户对商品的态度和偏好。简单来说就是如果用户A同时购买了商品1和商品2，那么说明商品1和商品2的相关度较高。当用户B也购买了商品1时，可以推断他也有购买商品2的需求。"
   ]
  },
  {
   "cell_type": "markdown",
   "metadata": {},
   "source": [
    "两种推荐方式比较:  \n",
    "User-based的基本思想是如果用户A喜欢物品a，用户B喜欢物品a、b、c，用户C喜欢a和c，那么认为用户A与用户B和C相似，因为他们都喜欢a，而喜欢a的用户同时也喜欢c，所以把c推荐给用户A。该算法用最近邻居（nearest-neighbor）算法找出一个用户的邻居集合，该集合的用户和该用户有相似的喜好，算法根据邻居的偏好对该用户进行预测。\n",
    " User-based算法存在下面的一些问题：\n",
    "\n",
    "    1. 数据稀疏性。一个大型的电子商务推荐系统一般有非常多的物品，用户可能买的其中不到1%的物品，不同用户之间买的物品重叠性较低，导致算法无法找到一个用户的邻居，即偏好相似的用户。\n",
    "\n",
    "    2. 算法扩展性。最近邻居算法的计算量随着用户和物品数量的增加而增加，不适合数据量大的情况使用。\n",
    "    \n",
    "    3. 冷启动问题,新来的用户之前没有任何的购买行为,不知道如何推荐那种物品.\n",
    "\n",
    "Iterm-based的基本思想是预先根据所有用户的历史偏好数据计算物品之间的相似性，然后把与用户喜欢的物品相类似的物品推荐给用户。还是以之前的例子为例，可以知道物品a和c非常相似，因为喜欢a的用户同时也喜欢c，而用户A喜欢a，所以把c推荐给用户A。\n",
    "\n",
    "    1.为物品直接的相似性相对比较固定，所以可以预先在线下计算好不同物品之间的相似度，把结果存在表中，当推荐时进行查表，计算用户可能的打分值，可以同时解决上面两个问题。\n",
    "基于物品相似度的过滤也是目前特别流行的一种方式,我们上网买东西时经常看到网站上面提示,购买此物品的人同时还购买了下面几种商品."
   ]
  },
  {
   "cell_type": "markdown",
   "metadata": {},
   "source": [
    "### 实例"
   ]
  },
  {
   "cell_type": "markdown",
   "metadata": {},
   "source": [
    "#### 基于用户的协同过滤"
   ]
  },
  {
   "cell_type": "markdown",
   "metadata": {},
   "source": [
    "首先先定义一个数据集,然后定义殴氏距离和皮尔逊相关度测量用户直接的相似度,\n",
    "现在假设有用户A到E,有商品 x,和y 下面是他们对商品的喜欢程度."
   ]
  },
  {
   "cell_type": "code",
   "execution_count": 20,
   "metadata": {
    "collapsed": true
   },
   "outputs": [],
   "source": [
    "data={\"A\":{\"x\":3.3,\"y\":6.5,\"w\":7.3,\"t\":9.5},\n",
    "      \"B\":{\"x\":5.8,\"y\":2.6,\"w\":3.3,\"t\":6.5},\n",
    "      \"C\":{\"x\":3.6,\"y\":6.3},\n",
    "      \"D\":{\"x\":3.4,\"y\":5.8},\n",
    "      \"E\":{\"x\":5.2,\"y\":3.1}\n",
    "     }"
   ]
  },
  {
   "cell_type": "markdown",
   "metadata": {},
   "source": [
    "定义殴氏距离相似度评价,这里取的是殴氏距离的倒数(为避免分母为0,而加上1),因为偏好越相似的人距离越短,取倒数后,值越大,越相似"
   ]
  },
  {
   "cell_type": "code",
   "execution_count": 4,
   "metadata": {
    "collapsed": true
   },
   "outputs": [],
   "source": [
    "from math import sqrt\n",
    "def sim_distance(data,person1,person2):\n",
    "#     得到共同评价的商品\n",
    "    si={}\n",
    "    for item in data[person1]:\n",
    "        if item in data[person2]:\n",
    "            si[item]=1\n",
    "#     没有相同评价的商品返回0\n",
    "    if len(si)==0:return 0\n",
    "#    计算所有差值的平方和\n",
    "    sum_of_squares=sum(pow(data[person1][item]-data[person2][item],2)\n",
    "                        for item in data[person1] if item in data[person2])\n",
    "    return 1/(1+sqrt(sum_of_squares))"
   ]
  },
  {
   "cell_type": "markdown",
   "metadata": {},
   "source": [
    "计算用户之前的相似度:"
   ]
  },
  {
   "cell_type": "code",
   "execution_count": 13,
   "metadata": {},
   "outputs": [
    {
     "name": "stdout",
     "output_type": "stream",
     "text": [
      "A---B:0.1775412477399896\n",
      "A---C:0.7349941062685068\n",
      "A---D:0.5857864376269049\n",
      "A---E:0.20429558354481928\n",
      "B---C:0.18851389903058627\n",
      "B---D:0.2\n",
      "B---E:0.5614744420752169\n",
      "C---D:0.6499767877275346\n",
      "C---E:0.2184498952542088\n",
      "D---E:0.23557147407319945\n"
     ]
    }
   ],
   "source": [
    "s={}#避免重复输出\n",
    "for per1 in data:\n",
    "    for per2 in data:\n",
    "        if per1 !=per2 and (per1+per2) not in s:            \n",
    "            d=sim_distance(data,per1,per2)\n",
    "            print(per1+\"---\"+per2+\":\"+str(d))\n",
    "            s[per1+per2]=1\n",
    "            s[per2+per1]=1"
   ]
  },
  {
   "cell_type": "markdown",
   "metadata": {},
   "source": [
    "从数字可以看出他们的相似度,数字越高越相似只有数字可能没那么明显,我们画出图像"
   ]
  },
  {
   "cell_type": "code",
   "execution_count": 14,
   "metadata": {
    "collapsed": true
   },
   "outputs": [],
   "source": [
    "import matplotlib.pyplot as plt\n",
    "%matplotlib inline"
   ]
  },
  {
   "cell_type": "code",
   "execution_count": 31,
   "metadata": {},
   "outputs": [
    {
     "data": {
      "image/png": "[encoded data removed]",
      "text/plain": [
       "<matplotlib.figure.Figure at 0x7f7ce4327ef0>"
      ]
     },
     "metadata": {},
     "output_type": "display_data"
    }
   ],
   "source": [
    "for per in data:\n",
    "    plt.scatter(data[per][\"x\"],data[per][\"y\"],marker='o')\n",
    "    plt.text(data[per][\"x\"],data[per][\"y\"],per)\n",
    "plt.show()"
   ]
  },
  {
   "cell_type": "markdown",
   "metadata": {},
   "source": [
    "根据上面计算的相似度可以看出 ACD是很靠近,B和E是很靠近的,这点通过图像已经可以很明显看出来"
   ]
  },
  {
   "cell_type": "markdown",
   "metadata": {
    "collapsed": true
   },
   "source": [
    "除了殴氏距离我们还可以使用皮尔逊相关度来衡量用户的相似度,皮尔逊的公式可以看[BASE](https://github.com/linzhenpeng/machinelearning/blob/master/BASE/BASE.ipynb)"
   ]
  },
  {
   "cell_type": "code",
   "execution_count": 23,
   "metadata": {
    "collapsed": true
   },
   "outputs": [],
   "source": [
    "def sim_pearson(data,p1,p2):\n",
    "    si={}\n",
    "    for item in data[p1]:\n",
    "        if item in data[p2]:\n",
    "            si[item]=1\n",
    "    n=len(si)\n",
    "#   如果两者没有共同之处,则返回1\n",
    "    if n==0:return 1\n",
    "#     求所有偏好和\n",
    "    sum1=sum([data[p1][it] for it in si])\n",
    "    sum2=sum([data[p2][it] for it in si])\n",
    "#     求平方和\n",
    "    sum1sq=sum([pow(data[p1][it],2) for it in si])\n",
    "    sum2sq=sum([pow(data[p2][it],2) for it in si])\n",
    "#   求乘积之和\n",
    "    pSum=sum([data[p1][it]*data[p2][it] for it in si])\n",
    "    \n",
    "    num=pSum-(sum1*sum2)/n\n",
    "    den=sqrt((sum1sq-pow(sum1,2)/n)*(sum2sq-pow(sum2,2)/n))\n",
    "    if den==0: return 0\n",
    "    r=num/den\n",
    "    return r\n",
    "    "
   ]
  },
  {
   "cell_type": "code",
   "execution_count": 24,
   "metadata": {},
   "outputs": [
    {
     "data": {
      "text/plain": [
       "0.058330562921646616"
      ]
     },
     "execution_count": 24,
     "metadata": {},
     "output_type": "execute_result"
    }
   ],
   "source": [
    "data={\"A\":{\"x\":3.3,\"y\":6.5,\"w\":7.3,\"t\":9.5},\n",
    "      \"B\":{\"x\":5.8,\"y\":2.6,\"w\":3.3,\"t\":6.5}}\n",
    "sim_pearson(data,\"A\",\"B\")"
   ]
  },
  {
   "cell_type": "markdown",
   "metadata": {
    "collapsed": true
   },
   "source": [
    "基于物品的计算方式和基于用户的计算方式差不多,只要把数据反过来再接着使用上面的两个公式就可以套用了"
   ]
  }
 ],
 "metadata": {
  "kernelspec": {
   "display_name": "Python 3",
   "language": "python",
   "name": "python3"
  },
  "language_info": {
   "codemirror_mode": {
    "name": "ipython",
    "version": 3
   },
   "file_extension": ".py",
   "mimetype": "text/x-python",
   "name": "python",
   "nbconvert_exporter": "python",
   "pygments_lexer": "ipython3",
   "version": "3.6.3"
  }
 },
 "nbformat": 4,
 "nbformat_minor": 2
}
